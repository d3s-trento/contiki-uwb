{
 "cells": [
  {
   "cell_type": "code",
   "execution_count": 1,
   "id": "103989ee-1165-4a0f-b370-971b6c947e4c",
   "metadata": {},
   "outputs": [],
   "source": [
    "import plotly.graph_objects as go\n",
    "\n",
    "import json\n",
    "import networkx as nx\n",
    "\n",
    "import numpy as np\n",
    "import base64"
   ]
  },
  {
   "cell_type": "code",
   "execution_count": 2,
   "id": "31b4de62-375e-447d-a300-675f322fdd35",
   "metadata": {},
   "outputs": [],
   "source": [
    "G = nx.Graph()"
   ]
  },
  {
   "cell_type": "code",
   "execution_count": 3,
   "id": "d341d68c-7a93-47b4-b6a3-31eadc3e388e",
   "metadata": {},
   "outputs": [],
   "source": [
    "excluded_nodes = [1,2,4,31,32, 34,35,36]"
   ]
  },
  {
   "cell_type": "code",
   "execution_count": 4,
   "id": "29269269-ec31-4e4c-a495-3769d6d8b60e",
   "metadata": {},
   "outputs": [],
   "source": [
    "network = json.load(open('../../../../../tsm-weaver-simulator/sim_networks/testbed_disi_network.json'))\n",
    "\n",
    "for node in network['nodes']:\n",
    "    if node['id'] not in excluded_nodes:\n",
    "        G.add_node(node['id'], pos=node['coords'], hoverlabel=node['id'])\n",
    "    \n",
    "for node in network['nodes']:\n",
    "    if node['id'] not in excluded_nodes:\n",
    "        for next_node in node['adj']:\n",
    "            if next_node not in excluded_nodes:\n",
    "                G.add_edge(node['id'], next_node)"
   ]
  },
  {
   "cell_type": "code",
   "execution_count": 5,
   "id": "4766442f-7b1b-4aa8-ad90-f798a0d8cfe5",
   "metadata": {},
   "outputs": [],
   "source": [
    "node_x = []\n",
    "node_y = []\n",
    "node_text = []\n",
    "for node in G.nodes():\n",
    "    x, y = G.nodes[node]['pos']\n",
    "    node_x.append(x)\n",
    "    node_y.append(y)\n",
    "    node_text.append(node)"
   ]
  },
  {
   "cell_type": "code",
   "execution_count": 6,
   "id": "4c784eb5-e04c-4ba1-9657-1c60d2077e46",
   "metadata": {},
   "outputs": [],
   "source": [
    "shortest=dict(nx.all_pairs_shortest_path_length(G))"
   ]
  },
  {
   "cell_type": "code",
   "execution_count": 7,
   "id": "25fc9628-5dea-4e65-a517-ebfa8a0e856b",
   "metadata": {},
   "outputs": [
    {
     "data": {
      "application/vnd.jupyter.widget-view+json": {
       "model_id": "a941f0f091ac4cfe985c92f39ff095ae",
       "version_major": 2,
       "version_minor": 0
      },
      "text/plain": [
       "FigureWidget({\n",
       "    'data': [{'hoverinfo': 'none',\n",
       "              'marker': {'colorbar': {'title': {'text': 'Hop…"
      ]
     },
     "metadata": {},
     "output_type": "display_data"
    }
   ],
   "source": [
    "image1_filename = '/home/esoprana/index.jpg'\n",
    "polar_light = base64.b64encode(open(image1_filename, 'rb').read())\n",
    "\n",
    "f = go.FigureWidget([go.Scatter(\n",
    "    x=node_x, \n",
    "    y=node_y, \n",
    "    text=node_text,\n",
    "    textposition='top right',\n",
    "    textfont=dict(color='#E58606'),\n",
    "    mode='markers+text',\n",
    "    marker = dict(\n",
    "        colorscale='turbo',\n",
    "        colorbar=dict(title='Hops'),\n",
    "        size=15,\n",
    "    ),\n",
    "    hoverinfo='none',\n",
    "), go.Scatter(\n",
    "    x=[],\n",
    "    y=[],\n",
    "    mode='lines',\n",
    "    line=dict(\n",
    "        color='rgba(0, 0, 0, 0.75)',\n",
    "        width=2,\n",
    "    )\n",
    ")],\n",
    "layout=go.Layout(\n",
    "    title='Disi network',\n",
    "    titlefont_size=16,\n",
    "    showlegend=False,\n",
    "    hovermode='closest',\n",
    "    xaxis=dict(showgrid=False, zeroline=False, showticklabels=True),\n",
    "    yaxis=dict(showgrid=False, zeroline=False, showticklabels=True),\n",
    "\n",
    "    images= [dict(\n",
    "        source='data:image/png;base64,{}'.format(polar_light.decode()),\n",
    "        xref= \"x\",\n",
    "        yref= \"y\",\n",
    "        x=-20,\n",
    "        y=-17,\n",
    "        sizex=114,\n",
    "        sizey=62,\n",
    "        xanchor='left',\n",
    "        yanchor='bottom',\n",
    "        sizing= \"stretch\",\n",
    "        layer='below'\n",
    "    )],\n",
    "    width=1100,\n",
    "    height=600,\n",
    "))\n",
    "\n",
    "scatter = f.data[0]\n",
    "f.layout.hovermode = 'closest'\n",
    "\n",
    "# create our callback function\n",
    "def update_point(trace, points, selector):   \n",
    "    edge_x = []\n",
    "    edge_y = []\n",
    "    for edge in G.edges():\n",
    "        x0, y0 = G.nodes[edge[0]]['pos']\n",
    "        x1, y1 = G.nodes[edge[1]]['pos']\n",
    "        \n",
    "        if len(points.point_inds) < 0:\n",
    "            pass\n",
    "        else:\n",
    "            actual_id = list(set(range(1,37)) - set(excluded_nodes))[points.point_inds[0]]\n",
    "            \n",
    "            if actual_id in [edge[0], edge[1]]:\n",
    "                edge_x.append(x0)\n",
    "                edge_x.append(x1)\n",
    "                edge_x.append(None)\n",
    "                edge_y.append(y0)\n",
    "                edge_y.append(y1)\n",
    "                edge_y.append(None)\n",
    "\n",
    "                f.data[0].marker.color = [v for k, v in sorted(shortest[actual_id].items())] #[i if i== points.point_inds[0] else 'red' for i in range(len(f.data[0].x))]\n",
    "\n",
    "        \n",
    "    f.data[1].x = edge_x\n",
    "    f.data[1].y = edge_y\n",
    "\n",
    "scatter.on_hover(update_point)\n",
    "\n",
    "f"
   ]
  },
  {
   "cell_type": "code",
   "execution_count": null,
   "id": "5f2393dc-789d-434c-8292-14b6fd9ec899",
   "metadata": {},
   "outputs": [],
   "source": []
  },
  {
   "cell_type": "code",
   "execution_count": null,
   "id": "55ea2cce-9b4e-418b-bb00-8b62acb58536",
   "metadata": {},
   "outputs": [],
   "source": []
  }
 ],
 "metadata": {
  "kernelspec": {
   "display_name": "Python 3 (ipykernel)",
   "language": "python",
   "name": "python3"
  },
  "language_info": {
   "codemirror_mode": {
    "name": "ipython",
    "version": 3
   },
   "file_extension": ".py",
   "mimetype": "text/x-python",
   "name": "python",
   "nbconvert_exporter": "python",
   "pygments_lexer": "ipython3",
   "version": "3.9.7"
  }
 },
 "nbformat": 4,
 "nbformat_minor": 5
}
